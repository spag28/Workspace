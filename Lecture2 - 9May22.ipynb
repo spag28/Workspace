{
 "cells": [
  {
   "cell_type": "code",
   "execution_count": 1,
   "id": "403193ba",
   "metadata": {},
   "outputs": [
    {
     "name": "stdout",
     "output_type": "stream",
     "text": [
      "this is \"abs\" bike\n"
     ]
    }
   ],
   "source": [
    "print('this is \"abs\" bike')"
   ]
  },
  {
   "cell_type": "code",
   "execution_count": 2,
   "id": "f1da7bf2",
   "metadata": {},
   "outputs": [
    {
     "name": "stdout",
     "output_type": "stream",
     "text": [
      "this is \"abcs\" bike\n"
     ]
    }
   ],
   "source": [
    "print(\"this is \\\"abcs\\\" bike\")"
   ]
  },
  {
   "cell_type": "code",
   "execution_count": 3,
   "id": "9cca4d62",
   "metadata": {},
   "outputs": [],
   "source": [
    "a= \"abc\""
   ]
  },
  {
   "cell_type": "code",
   "execution_count": 4,
   "id": "ed263118",
   "metadata": {},
   "outputs": [
    {
     "data": {
      "text/plain": [
       "str"
      ]
     },
     "execution_count": 4,
     "metadata": {},
     "output_type": "execute_result"
    }
   ],
   "source": [
    "type(a)"
   ]
  },
  {
   "cell_type": "code",
   "execution_count": 6,
   "id": "24261a9f",
   "metadata": {},
   "outputs": [],
   "source": [
    "b=\"2\""
   ]
  },
  {
   "cell_type": "code",
   "execution_count": 7,
   "id": "aad6e60a",
   "metadata": {},
   "outputs": [
    {
     "data": {
      "text/plain": [
       "str"
      ]
     },
     "execution_count": 7,
     "metadata": {},
     "output_type": "execute_result"
    }
   ],
   "source": [
    "type(b)"
   ]
  },
  {
   "cell_type": "code",
   "execution_count": 8,
   "id": "0da4870b",
   "metadata": {},
   "outputs": [
    {
     "data": {
      "text/plain": [
       "4"
      ]
     },
     "execution_count": 8,
     "metadata": {},
     "output_type": "execute_result"
    }
   ],
   "source": [
    "\n",
    "2+2\n"
   ]
  },
  {
   "cell_type": "code",
   "execution_count": 9,
   "id": "5c8a5b0b",
   "metadata": {},
   "outputs": [
    {
     "data": {
      "text/plain": [
       "'22'"
      ]
     },
     "execution_count": 9,
     "metadata": {},
     "output_type": "execute_result"
    }
   ],
   "source": [
    "\"2\"+\"2\""
   ]
  },
  {
   "cell_type": "code",
   "execution_count": 10,
   "id": "7c29afce",
   "metadata": {},
   "outputs": [
    {
     "data": {
      "text/plain": [
       "'aaaaa'"
      ]
     },
     "execution_count": 10,
     "metadata": {},
     "output_type": "execute_result"
    }
   ],
   "source": [
    "\"a\"*5"
   ]
  },
  {
   "cell_type": "code",
   "execution_count": 11,
   "id": "b75bee0c",
   "metadata": {},
   "outputs": [
    {
     "ename": "SyntaxError",
     "evalue": "invalid syntax (Temp/ipykernel_6316/411648664.py, line 1)",
     "output_type": "error",
     "traceback": [
      "\u001b[1;36m  File \u001b[1;32m\"C:\\Users\\spagg\\AppData\\Local\\Temp/ipykernel_6316/411648664.py\"\u001b[1;36m, line \u001b[1;32m1\u001b[0m\n\u001b[1;33m    //can only add two strings, not a number and a letter\u001b[0m\n\u001b[1;37m    ^\u001b[0m\n\u001b[1;31mSyntaxError\u001b[0m\u001b[1;31m:\u001b[0m invalid syntax\n"
     ]
    }
   ],
   "source": [
    "//can only add two strings, not a number and a letter\n"
   ]
  },
  {
   "cell_type": "code",
   "execution_count": 12,
   "id": "2b266e53",
   "metadata": {},
   "outputs": [
    {
     "ename": "SyntaxError",
     "evalue": "unexpected character after line continuation character (Temp/ipykernel_6316/2473760146.py, line 1)",
     "output_type": "error",
     "traceback": [
      "\u001b[1;36m  File \u001b[1;32m\"C:\\Users\\spagg\\AppData\\Local\\Temp/ipykernel_6316/2473760146.py\"\u001b[1;36m, line \u001b[1;32m1\u001b[0m\n\u001b[1;33m    \\\\d\u001b[0m\n\u001b[1;37m      ^\u001b[0m\n\u001b[1;31mSyntaxError\u001b[0m\u001b[1;31m:\u001b[0m unexpected character after line continuation character\n"
     ]
    }
   ],
   "source": [
    "\\\\d"
   ]
  },
  {
   "cell_type": "code",
   "execution_count": 13,
   "id": "91f1fbaf",
   "metadata": {},
   "outputs": [
    {
     "ename": "NameError",
     "evalue": "name 'true' is not defined",
     "output_type": "error",
     "traceback": [
      "\u001b[1;31m---------------------------------------------------------------------------\u001b[0m",
      "\u001b[1;31mNameError\u001b[0m                                 Traceback (most recent call last)",
      "\u001b[1;32m~\\AppData\\Local\\Temp/ipykernel_6316/3110053849.py\u001b[0m in \u001b[0;36m<module>\u001b[1;34m\u001b[0m\n\u001b[1;32m----> 1\u001b[1;33m \u001b[0mtrue\u001b[0m \u001b[1;32mand\u001b[0m \u001b[0mtrue\u001b[0m\u001b[1;33m\u001b[0m\u001b[1;33m\u001b[0m\u001b[0m\n\u001b[0m",
      "\u001b[1;31mNameError\u001b[0m: name 'true' is not defined"
     ]
    }
   ],
   "source": [
    "true and true\n"
   ]
  },
  {
   "cell_type": "code",
   "execution_count": 14,
   "id": "59da3545",
   "metadata": {},
   "outputs": [
    {
     "data": {
      "text/plain": [
       "True"
      ]
     },
     "execution_count": 14,
     "metadata": {},
     "output_type": "execute_result"
    }
   ],
   "source": [
    "True and True"
   ]
  },
  {
   "cell_type": "code",
   "execution_count": 15,
   "id": "386d57dc",
   "metadata": {},
   "outputs": [
    {
     "data": {
      "text/plain": [
       "2"
      ]
     },
     "execution_count": 15,
     "metadata": {},
     "output_type": "execute_result"
    }
   ],
   "source": [
    "True + True"
   ]
  },
  {
   "cell_type": "code",
   "execution_count": 16,
   "id": "b9281347",
   "metadata": {},
   "outputs": [
    {
     "data": {
      "text/plain": [
       "False"
      ]
     },
     "execution_count": 16,
     "metadata": {},
     "output_type": "execute_result"
    }
   ],
   "source": [
    "True and False"
   ]
  },
  {
   "cell_type": "code",
   "execution_count": 17,
   "id": "dd499f5b",
   "metadata": {},
   "outputs": [],
   "source": [
    "#And prioritises False"
   ]
  },
  {
   "cell_type": "code",
   "execution_count": 18,
   "id": "ac4d599d",
   "metadata": {},
   "outputs": [
    {
     "ename": "SyntaxError",
     "evalue": "invalid syntax (Temp/ipykernel_6316/672368197.py, line 1)",
     "output_type": "error",
     "traceback": [
      "\u001b[1;36m  File \u001b[1;32m\"C:\\Users\\spagg\\AppData\\Local\\Temp/ipykernel_6316/672368197.py\"\u001b[1;36m, line \u001b[1;32m1\u001b[0m\n\u001b[1;33m    core data types\u001b[0m\n\u001b[1;37m         ^\u001b[0m\n\u001b[1;31mSyntaxError\u001b[0m\u001b[1;31m:\u001b[0m invalid syntax\n"
     ]
    }
   ],
   "source": [
    "core data types\n",
    "int\n",
    "float\n",
    "string\n",
    "boolean"
   ]
  },
  {
   "cell_type": "code",
   "execution_count": 19,
   "id": "8638433c",
   "metadata": {},
   "outputs": [],
   "source": [
    "a=1,2,3,4,5\n"
   ]
  },
  {
   "cell_type": "code",
   "execution_count": 20,
   "id": "73b4520e",
   "metadata": {},
   "outputs": [
    {
     "data": {
      "text/plain": [
       "(1, 2, 3, 4, 5)"
      ]
     },
     "execution_count": 20,
     "metadata": {},
     "output_type": "execute_result"
    }
   ],
   "source": [
    "a\n"
   ]
  },
  {
   "cell_type": "code",
   "execution_count": 21,
   "id": "f5128008",
   "metadata": {},
   "outputs": [],
   "source": [
    "#brackets changed the meaning"
   ]
  },
  {
   "cell_type": "code",
   "execution_count": 22,
   "id": "d6c26269",
   "metadata": {},
   "outputs": [
    {
     "data": {
      "text/plain": [
       "tuple"
      ]
     },
     "execution_count": 22,
     "metadata": {},
     "output_type": "execute_result"
    }
   ],
   "source": [
    "type(a)\n"
   ]
  },
  {
   "cell_type": "code",
   "execution_count": 23,
   "id": "212fb5a1",
   "metadata": {},
   "outputs": [
    {
     "data": {
      "text/plain": [
       "tuple"
      ]
     },
     "execution_count": 23,
     "metadata": {},
     "output_type": "execute_result"
    }
   ],
   "source": [
    "tuple"
   ]
  },
  {
   "cell_type": "code",
   "execution_count": 24,
   "id": "8196dabb",
   "metadata": {},
   "outputs": [
    {
     "ename": "NameError",
     "evalue": "name 'dictionary' is not defined",
     "output_type": "error",
     "traceback": [
      "\u001b[1;31m---------------------------------------------------------------------------\u001b[0m",
      "\u001b[1;31mNameError\u001b[0m                                 Traceback (most recent call last)",
      "\u001b[1;32m~\\AppData\\Local\\Temp/ipykernel_6316/2877763899.py\u001b[0m in \u001b[0;36m<module>\u001b[1;34m\u001b[0m\n\u001b[0;32m      1\u001b[0m \u001b[0mtuple\u001b[0m\u001b[1;33m\u001b[0m\u001b[1;33m\u001b[0m\u001b[0m\n\u001b[0;32m      2\u001b[0m \u001b[0mlist\u001b[0m\u001b[1;33m\u001b[0m\u001b[1;33m\u001b[0m\u001b[0m\n\u001b[1;32m----> 3\u001b[1;33m \u001b[0mdictionary\u001b[0m\u001b[1;33m\u001b[0m\u001b[1;33m\u001b[0m\u001b[0m\n\u001b[0m",
      "\u001b[1;31mNameError\u001b[0m: name 'dictionary' is not defined"
     ]
    }
   ],
   "source": [
    "tuple\n",
    "list\n",
    "dictionary\n"
   ]
  },
  {
   "cell_type": "code",
   "execution_count": 25,
   "id": "d4d9474f",
   "metadata": {},
   "outputs": [
    {
     "ename": "NameError",
     "evalue": "name 'index' is not defined",
     "output_type": "error",
     "traceback": [
      "\u001b[1;31m---------------------------------------------------------------------------\u001b[0m",
      "\u001b[1;31mNameError\u001b[0m                                 Traceback (most recent call last)",
      "\u001b[1;32m~\\AppData\\Local\\Temp/ipykernel_6316/303992987.py\u001b[0m in \u001b[0;36m<module>\u001b[1;34m\u001b[0m\n\u001b[0;32m      1\u001b[0m \u001b[1;31m#indexing\u001b[0m\u001b[1;33m\u001b[0m\u001b[1;33m\u001b[0m\u001b[0m\n\u001b[1;32m----> 2\u001b[1;33m \u001b[0ma\u001b[0m\u001b[1;33m[\u001b[0m\u001b[0mindex\u001b[0m\u001b[1;33m]\u001b[0m\u001b[1;33m\u001b[0m\u001b[1;33m\u001b[0m\u001b[0m\n\u001b[0m\u001b[0;32m      3\u001b[0m \u001b[1;31m#index starts from 0 in a tuple\u001b[0m\u001b[1;33m\u001b[0m\u001b[1;33m\u001b[0m\u001b[0m\n",
      "\u001b[1;31mNameError\u001b[0m: name 'index' is not defined"
     ]
    }
   ],
   "source": [
    "#indexing\n",
    "a[index]\n",
    "#index starts from 0 in a tuple and -1 from the back"
   ]
  },
  {
   "cell_type": "code",
   "execution_count": 26,
   "id": "bfdb805b",
   "metadata": {},
   "outputs": [
    {
     "data": {
      "text/plain": [
       "2"
      ]
     },
     "execution_count": 26,
     "metadata": {},
     "output_type": "execute_result"
    }
   ],
   "source": [
    "a[1]"
   ]
  },
  {
   "cell_type": "code",
   "execution_count": 27,
   "id": "87e398ee",
   "metadata": {},
   "outputs": [],
   "source": [
    "#slicing"
   ]
  },
  {
   "cell_type": "code",
   "execution_count": 28,
   "id": "6e751c55",
   "metadata": {},
   "outputs": [],
   "source": [
    "#how to print 2,3,4 in that tuple"
   ]
  },
  {
   "cell_type": "code",
   "execution_count": 29,
   "id": "723fefef",
   "metadata": {},
   "outputs": [],
   "source": [
    "#a[startindex (included):end index (excluded)] +1 to the last"
   ]
  },
  {
   "cell_type": "code",
   "execution_count": 30,
   "id": "d0ef03ff",
   "metadata": {},
   "outputs": [
    {
     "data": {
      "text/plain": [
       "(2, 3, 4)"
      ]
     },
     "execution_count": 30,
     "metadata": {},
     "output_type": "execute_result"
    }
   ],
   "source": [
    "a[1:4]"
   ]
  },
  {
   "cell_type": "code",
   "execution_count": 31,
   "id": "1f6fd1f1",
   "metadata": {},
   "outputs": [],
   "source": [
    "c=(1,2,3,4,5,6,7,8,9)"
   ]
  },
  {
   "cell_type": "code",
   "execution_count": 33,
   "id": "7e24b70f",
   "metadata": {},
   "outputs": [
    {
     "data": {
      "text/plain": [
       "(1, 3, 5, 7, 9)"
      ]
     },
     "execution_count": 33,
     "metadata": {},
     "output_type": "execute_result"
    }
   ],
   "source": [
    "c[0:9:2]"
   ]
  },
  {
   "cell_type": "code",
   "execution_count": 34,
   "id": "ca5d5316",
   "metadata": {},
   "outputs": [],
   "source": [
    "d= (1,2,(4,5,(9,8,7),7),4,5,6,7,8,9)"
   ]
  },
  {
   "cell_type": "code",
   "execution_count": 35,
   "id": "d9cfd43d",
   "metadata": {},
   "outputs": [],
   "source": [
    "#print the first 8"
   ]
  },
  {
   "cell_type": "code",
   "execution_count": 36,
   "id": "1ab653cb",
   "metadata": {},
   "outputs": [
    {
     "data": {
      "text/plain": [
       "8"
      ]
     },
     "execution_count": 36,
     "metadata": {},
     "output_type": "execute_result"
    }
   ],
   "source": [
    "d[2][2][1]"
   ]
  },
  {
   "cell_type": "code",
   "execution_count": 37,
   "id": "6541c085",
   "metadata": {},
   "outputs": [],
   "source": [
    "#break it down"
   ]
  },
  {
   "cell_type": "code",
   "execution_count": 38,
   "id": "b80e8983",
   "metadata": {},
   "outputs": [],
   "source": [
    "a=[1,\"xyz\",2.1,True]"
   ]
  },
  {
   "cell_type": "code",
   "execution_count": 39,
   "id": "b1f30fec",
   "metadata": {},
   "outputs": [
    {
     "data": {
      "text/plain": [
       "list"
      ]
     },
     "execution_count": 39,
     "metadata": {},
     "output_type": "execute_result"
    }
   ],
   "source": [
    "type(a)"
   ]
  },
  {
   "cell_type": "code",
   "execution_count": 40,
   "id": "3f6294d2",
   "metadata": {},
   "outputs": [
    {
     "data": {
      "text/plain": [
       "str"
      ]
     },
     "execution_count": 40,
     "metadata": {},
     "output_type": "execute_result"
    }
   ],
   "source": [
    "type(a[1])"
   ]
  },
  {
   "cell_type": "code",
   "execution_count": 41,
   "id": "013f9d19",
   "metadata": {},
   "outputs": [],
   "source": [
    "student= {\"ID\":1, \"name\":\"xyz\",\"Grade\":2.1}"
   ]
  },
  {
   "cell_type": "code",
   "execution_count": 42,
   "id": "e88340d3",
   "metadata": {},
   "outputs": [
    {
     "data": {
      "text/plain": [
       "2.1"
      ]
     },
     "execution_count": 42,
     "metadata": {},
     "output_type": "execute_result"
    }
   ],
   "source": [
    "student[\"Grade\"]"
   ]
  },
  {
   "cell_type": "code",
   "execution_count": 43,
   "id": "c24892a8",
   "metadata": {},
   "outputs": [],
   "source": [
    "a= \"Hello\""
   ]
  },
  {
   "cell_type": "code",
   "execution_count": 44,
   "id": "009c54bc",
   "metadata": {},
   "outputs": [
    {
     "data": {
      "text/plain": [
       "'HELLO'"
      ]
     },
     "execution_count": 44,
     "metadata": {},
     "output_type": "execute_result"
    }
   ],
   "source": [
    "a.upper()"
   ]
  },
  {
   "cell_type": "code",
   "execution_count": 45,
   "id": "638bd2c0",
   "metadata": {},
   "outputs": [],
   "source": [
    "#google python string functions programiz"
   ]
  },
  {
   "cell_type": "code",
   "execution_count": 46,
   "id": "3c39d752",
   "metadata": {},
   "outputs": [],
   "source": [
    "a = \"HeLlO woRLd\""
   ]
  },
  {
   "cell_type": "code",
   "execution_count": 47,
   "id": "3f38b16b",
   "metadata": {},
   "outputs": [
    {
     "data": {
      "text/plain": [
       "'Hello World'"
      ]
     },
     "execution_count": 47,
     "metadata": {},
     "output_type": "execute_result"
    }
   ],
   "source": [
    "a.title()"
   ]
  },
  {
   "cell_type": "code",
   "execution_count": 48,
   "id": "aae87ee2",
   "metadata": {},
   "outputs": [],
   "source": [
    "d={1:'a',2:'b'}"
   ]
  },
  {
   "cell_type": "code",
   "execution_count": 49,
   "id": "937f7a1c",
   "metadata": {},
   "outputs": [],
   "source": [
    "d[3] = d.pop(1)"
   ]
  },
  {
   "cell_type": "code",
   "execution_count": 50,
   "id": "707c1bee",
   "metadata": {},
   "outputs": [
    {
     "data": {
      "text/plain": [
       "{2: 'b', 3: 'a'}"
      ]
     },
     "execution_count": 50,
     "metadata": {},
     "output_type": "execute_result"
    }
   ],
   "source": [
    "d"
   ]
  },
  {
   "cell_type": "code",
   "execution_count": 51,
   "id": "a2049628",
   "metadata": {},
   "outputs": [],
   "source": [
    "#removed 1 and replaced it with 3"
   ]
  },
  {
   "cell_type": "code",
   "execution_count": null,
   "id": "70443a40",
   "metadata": {},
   "outputs": [],
   "source": []
  }
 ],
 "metadata": {
  "kernelspec": {
   "display_name": "Python 3 (ipykernel)",
   "language": "python",
   "name": "python3"
  },
  "language_info": {
   "codemirror_mode": {
    "name": "ipython",
    "version": 3
   },
   "file_extension": ".py",
   "mimetype": "text/x-python",
   "name": "python",
   "nbconvert_exporter": "python",
   "pygments_lexer": "ipython3",
   "version": "3.9.7"
  }
 },
 "nbformat": 4,
 "nbformat_minor": 5
}
