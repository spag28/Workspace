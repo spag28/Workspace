{
 "cells": [
  {
   "cell_type": "code",
   "execution_count": 6,
   "id": "737e8b56",
   "metadata": {},
   "outputs": [],
   "source": [
    "import pandas as pd\n",
    "import numpy as np\n"
   ]
  },
  {
   "cell_type": "code",
   "execution_count": 7,
   "id": "2a5af174",
   "metadata": {},
   "outputs": [],
   "source": [
    "fhd = pd.read_pickle(r'C:\\Users\\spagg\\Documents\\Python\\9. Dates and Times in Python\\florida_hurricane_dates.pkl')"
   ]
  },
  {
   "cell_type": "code",
   "execution_count": 8,
   "id": "60ade68e",
   "metadata": {
    "scrolled": true
   },
   "outputs": [
    {
     "name": "stdout",
     "output_type": "stream",
     "text": [
      "[datetime.date(1988, 8, 4), datetime.date(1990, 10, 12), datetime.date(2003, 4, 20), datetime.date(1971, 9, 1), datetime.date(1988, 8, 23), datetime.date(1994, 8, 15), datetime.date(2002, 8, 4), datetime.date(1988, 5, 30), datetime.date(2003, 9, 13), datetime.date(2009, 8, 21), datetime.date(1978, 6, 22), datetime.date(1969, 6, 9), datetime.date(1976, 6, 11), datetime.date(1976, 8, 19), datetime.date(1966, 6, 9), datetime.date(1968, 7, 5), datetime.date(1987, 11, 4), datetime.date(1988, 8, 13), datetime.date(2007, 12, 13), datetime.date(1994, 11, 16), datetime.date(2003, 9, 6), datetime.date(1971, 8, 13), datetime.date(1981, 8, 17), datetime.date(1998, 9, 25), datetime.date(1968, 9, 26), datetime.date(1968, 6, 4), datetime.date(1998, 11, 5), datetime.date(2008, 8, 18), datetime.date(1987, 8, 14), datetime.date(1988, 11, 23), datetime.date(2010, 9, 29), datetime.date(1985, 7, 23), datetime.date(2017, 7, 31), datetime.date(1955, 8, 21), datetime.date(1986, 6, 26), datetime.date(1963, 10, 21), datetime.date(2011, 10, 28), datetime.date(2011, 11, 9), datetime.date(1997, 7, 19), datetime.date(2007, 6, 2), datetime.date(2002, 9, 14), datetime.date(1992, 9, 29), datetime.date(1971, 10, 13), datetime.date(1962, 8, 26), datetime.date(1964, 8, 27), datetime.date(1984, 9, 27), datetime.date(1973, 9, 25), datetime.date(1969, 10, 21), datetime.date(1994, 7, 3), datetime.date(1958, 9, 4), datetime.date(1985, 11, 21), datetime.date(2011, 9, 3), datetime.date(1972, 6, 19), datetime.date(1991, 6, 30), datetime.date(2004, 8, 12), datetime.date(2007, 9, 8), datetime.date(1952, 2, 3), datetime.date(1965, 9, 30), datetime.date(2000, 9, 22), datetime.date(2002, 9, 26), datetime.date(1950, 9, 5), datetime.date(1966, 10, 4), datetime.date(1970, 5, 25), datetime.date(1979, 9, 24), datetime.date(1960, 9, 23), datetime.date(2007, 8, 23), datetime.date(2009, 8, 16), datetime.date(1996, 10, 18), datetime.date(2012, 10, 25), datetime.date(2011, 8, 25), datetime.date(1951, 5, 18), datetime.date(1980, 8, 7), datetime.date(1979, 9, 3), datetime.date(1953, 9, 26), datetime.date(1968, 10, 19), datetime.date(2009, 11, 9), datetime.date(1999, 8, 29), datetime.date(2015, 10, 1), datetime.date(2008, 9, 2), datetime.date(2004, 10, 10), datetime.date(2004, 9, 16), datetime.date(1992, 8, 24), datetime.date(2000, 9, 9), datetime.date(1971, 9, 16), datetime.date(1996, 9, 2), datetime.date(1998, 9, 3), datetime.date(1951, 10, 2), datetime.date(1979, 9, 12), datetime.date(2007, 10, 31), datetime.date(1953, 10, 9), datetime.date(1952, 8, 30), datetime.date(1969, 9, 7), datetime.date(2015, 8, 30), datetime.date(1959, 10, 8), datetime.date(2002, 7, 13), datetime.date(1961, 10, 29), datetime.date(2007, 5, 9), datetime.date(2016, 10, 7), datetime.date(1964, 9, 20), datetime.date(1979, 7, 11), datetime.date(1950, 10, 18), datetime.date(2008, 8, 31), datetime.date(2012, 8, 25), datetime.date(1966, 7, 24), datetime.date(2010, 8, 10), datetime.date(2005, 8, 25), datetime.date(2003, 6, 30), datetime.date(1956, 7, 6), datetime.date(1974, 9, 8), datetime.date(1966, 6, 30), datetime.date(2016, 9, 14), datetime.date(1968, 6, 18), datetime.date(1982, 9, 11), datetime.date(1976, 9, 13), datetime.date(1975, 7, 29), datetime.date(2007, 9, 13), datetime.date(1970, 9, 27), datetime.date(1969, 10, 2), datetime.date(2010, 8, 31), datetime.date(1995, 10, 4), datetime.date(1969, 8, 29), datetime.date(1984, 10, 26), datetime.date(1973, 9, 3), datetime.date(1976, 5, 23), datetime.date(2001, 11, 5), datetime.date(2010, 6, 30), datetime.date(1985, 10, 10), datetime.date(1970, 7, 22), datetime.date(1972, 5, 28), datetime.date(1982, 6, 18), datetime.date(2001, 8, 6), datetime.date(1953, 8, 29), datetime.date(1965, 9, 8), datetime.date(1964, 9, 10), datetime.date(1959, 10, 18), datetime.date(1957, 6, 8), datetime.date(1988, 9, 10), datetime.date(2005, 6, 11), datetime.date(1953, 6, 6), datetime.date(2003, 8, 30), datetime.date(2002, 10, 3), datetime.date(1968, 8, 10), datetime.date(1999, 10, 15), datetime.date(2002, 9, 4), datetime.date(2001, 6, 12), datetime.date(2017, 9, 10), datetime.date(2005, 10, 5), datetime.date(2005, 7, 10), datetime.date(1973, 6, 7), datetime.date(1999, 9, 15), datetime.date(2005, 9, 20), datetime.date(1995, 6, 5), datetime.date(2003, 7, 25), datetime.date(2004, 9, 13), datetime.date(1964, 6, 6), datetime.date(1973, 6, 23), datetime.date(2005, 9, 12), datetime.date(2012, 6, 23), datetime.date(1961, 9, 11), datetime.date(1990, 5, 25), datetime.date(2017, 6, 21), datetime.date(1975, 6, 27), datetime.date(1959, 6, 18), datetime.date(2004, 9, 5), datetime.date(1987, 10, 12), datetime.date(1995, 7, 27), datetime.date(1964, 10, 14), datetime.date(1970, 8, 6), datetime.date(1969, 10, 1), datetime.date(1996, 10, 8), datetime.date(1968, 8, 28), datetime.date(1956, 10, 15), datetime.date(1975, 9, 23), datetime.date(1970, 9, 13), datetime.date(1975, 10, 16), datetime.date(1990, 10, 9), datetime.date(2005, 10, 24), datetime.date(1950, 8, 31), datetime.date(2000, 10, 3), datetime.date(2002, 10, 11), datetime.date(1983, 8, 28), datetime.date(1960, 7, 29), datetime.date(1950, 10, 21), datetime.date(1995, 8, 2), datetime.date(1956, 9, 24), datetime.date(2016, 9, 1), datetime.date(1993, 6, 1), datetime.date(1987, 9, 7), datetime.date(2012, 5, 28), datetime.date(1995, 8, 23), datetime.date(1969, 8, 18), datetime.date(2001, 9, 14), datetime.date(2000, 8, 23), datetime.date(1974, 10, 7), datetime.date(1986, 8, 13), datetime.date(1977, 8, 27), datetime.date(2008, 7, 16), datetime.date(1996, 7, 11), datetime.date(1988, 9, 4), datetime.date(1975, 10, 1), datetime.date(2003, 8, 14), datetime.date(1957, 9, 8), datetime.date(2005, 7, 6), datetime.date(1960, 9, 15), datetime.date(1974, 9, 27), datetime.date(1965, 6, 15), datetime.date(1999, 9, 21), datetime.date(2004, 8, 13), datetime.date(1994, 10, 2), datetime.date(1971, 8, 10), datetime.date(2008, 7, 22), datetime.date(2000, 9, 18), datetime.date(1960, 9, 10), datetime.date(2006, 6, 13), datetime.date(2017, 10, 29), datetime.date(1972, 9, 5), datetime.date(1964, 10, 5), datetime.date(1991, 10, 16), datetime.date(1969, 9, 21), datetime.date(1998, 9, 20), datetime.date(1977, 9, 5), datetime.date(1988, 9, 13), datetime.date(1974, 6, 25), datetime.date(2010, 7, 23), datetime.date(2007, 9, 22), datetime.date(1984, 9, 9), datetime.date(1989, 9, 22), datetime.date(1992, 6, 25), datetime.date(1971, 8, 29), datetime.date(1953, 9, 20), datetime.date(1985, 8, 15), datetime.date(2016, 6, 6), datetime.date(2006, 8, 30), datetime.date(1980, 11, 18), datetime.date(2011, 7, 18)]\n"
     ]
    }
   ],
   "source": [
    "print(fhd)"
   ]
  },
  {
   "cell_type": "code",
   "execution_count": 9,
   "id": "5bb07cba",
   "metadata": {},
   "outputs": [],
   "source": [
    "cob = pd.read_csv(r'C:\\Users\\spagg\\Documents\\Python\\9. Dates and Times in Python\\capital-onebike.csv')"
   ]
  },
  {
   "cell_type": "code",
   "execution_count": 10,
   "id": "df14f0ca",
   "metadata": {},
   "outputs": [
    {
     "name": "stdout",
     "output_type": "stream",
     "text": [
      "              Start date             End date  Start station number  \\\n",
      "0    2017-10-01 15:23:25  2017-10-01 15:26:26                 31038   \n",
      "1    2017-10-01 15:42:57  2017-10-01 17:49:59                 31036   \n",
      "2    2017-10-02 06:37:10  2017-10-02 06:42:53                 31036   \n",
      "3    2017-10-02 08:56:45  2017-10-02 09:18:03                 31037   \n",
      "4    2017-10-02 18:23:48  2017-10-02 18:45:05                 31295   \n",
      "..                   ...                  ...                   ...   \n",
      "285  2017-12-29 14:32:55  2017-12-29 14:43:46                 31242   \n",
      "286  2017-12-29 15:08:26  2017-12-29 15:18:51                 31265   \n",
      "287  2017-12-29 20:33:34  2017-12-29 20:38:13                 31613   \n",
      "288  2017-12-30 13:51:03  2017-12-30 13:54:33                 31618   \n",
      "289  2017-12-30 15:09:03  2017-12-30 15:19:13                 31610   \n",
      "\n",
      "                                         Start station  End station number  \\\n",
      "0                                 Glebe Rd & 11th St N               31036   \n",
      "1                        George Mason Dr & Wilson Blvd               31036   \n",
      "2                        George Mason Dr & Wilson Blvd               31037   \n",
      "3                 Ballston Metro / N Stuart & 9th St N               31295   \n",
      "4                                    Potomac & M St NW               31230   \n",
      "..                                                 ...                 ...   \n",
      "285                      18th St & Pennsylvania Ave NW               31265   \n",
      "286                      5th St & Massachusetts Ave NW               31613   \n",
      "287  Eastern Market Metro / Pennsylvania Ave & 7th ...               31618   \n",
      "288                           4th & East Capitol St NE               31610   \n",
      "289       Eastern Market / 7th & North Carolina Ave SE               31272   \n",
      "\n",
      "                                           End station Bike number Member type  \n",
      "0                        George Mason Dr & Wilson Blvd      W20529      Member  \n",
      "1                        George Mason Dr & Wilson Blvd      W20529      Casual  \n",
      "2                 Ballston Metro / N Stuart & 9th St N      W20529      Member  \n",
      "3                                    Potomac & M St NW      W20529      Member  \n",
      "4                        Metro Center / 12th & G St NW      W20529      Member  \n",
      "..                                                 ...         ...         ...  \n",
      "285                      5th St & Massachusetts Ave NW      W20529      Member  \n",
      "286  Eastern Market Metro / Pennsylvania Ave & 7th ...      W20529      Casual  \n",
      "287                           4th & East Capitol St NE      W20529      Member  \n",
      "288       Eastern Market / 7th & North Carolina Ave SE      W20529      Member  \n",
      "289               Washington & Independence Ave SW/HHS      W20529      Member  \n",
      "\n",
      "[290 rows x 8 columns]\n"
     ]
    }
   ],
   "source": [
    "print(cob)"
   ]
  },
  {
   "cell_type": "code",
   "execution_count": 13,
   "id": "cef9410b",
   "metadata": {},
   "outputs": [],
   "source": [
    "from datetime import date"
   ]
  },
  {
   "cell_type": "code",
   "execution_count": 14,
   "id": "4c49405b",
   "metadata": {},
   "outputs": [],
   "source": [
    "hurricane_andrew = date(1992,8,24)"
   ]
  },
  {
   "cell_type": "code",
   "execution_count": 15,
   "id": "10178b60",
   "metadata": {},
   "outputs": [
    {
     "name": "stdout",
     "output_type": "stream",
     "text": [
      "0\n"
     ]
    }
   ],
   "source": [
    "print(hurricane_andrew.weekday())"
   ]
  },
  {
   "cell_type": "code",
   "execution_count": 17,
   "id": "80792936",
   "metadata": {},
   "outputs": [
    {
     "name": "stdout",
     "output_type": "stream",
     "text": [
      "[datetime.date(1988, 8, 4), datetime.date(1990, 10, 12), datetime.date(2003, 4, 20), datetime.date(1971, 9, 1), datetime.date(1988, 8, 23), datetime.date(1994, 8, 15), datetime.date(2002, 8, 4), datetime.date(1988, 5, 30), datetime.date(2003, 9, 13), datetime.date(2009, 8, 21), datetime.date(1978, 6, 22), datetime.date(1969, 6, 9), datetime.date(1976, 6, 11), datetime.date(1976, 8, 19), datetime.date(1966, 6, 9), datetime.date(1968, 7, 5), datetime.date(1987, 11, 4), datetime.date(1988, 8, 13), datetime.date(2007, 12, 13), datetime.date(1994, 11, 16), datetime.date(2003, 9, 6), datetime.date(1971, 8, 13), datetime.date(1981, 8, 17), datetime.date(1998, 9, 25), datetime.date(1968, 9, 26), datetime.date(1968, 6, 4), datetime.date(1998, 11, 5), datetime.date(2008, 8, 18), datetime.date(1987, 8, 14), datetime.date(1988, 11, 23), datetime.date(2010, 9, 29), datetime.date(1985, 7, 23), datetime.date(2017, 7, 31), datetime.date(1955, 8, 21), datetime.date(1986, 6, 26), datetime.date(1963, 10, 21), datetime.date(2011, 10, 28), datetime.date(2011, 11, 9), datetime.date(1997, 7, 19), datetime.date(2007, 6, 2), datetime.date(2002, 9, 14), datetime.date(1992, 9, 29), datetime.date(1971, 10, 13), datetime.date(1962, 8, 26), datetime.date(1964, 8, 27), datetime.date(1984, 9, 27), datetime.date(1973, 9, 25), datetime.date(1969, 10, 21), datetime.date(1994, 7, 3), datetime.date(1958, 9, 4), datetime.date(1985, 11, 21), datetime.date(2011, 9, 3), datetime.date(1972, 6, 19), datetime.date(1991, 6, 30), datetime.date(2004, 8, 12), datetime.date(2007, 9, 8), datetime.date(1952, 2, 3), datetime.date(1965, 9, 30), datetime.date(2000, 9, 22), datetime.date(2002, 9, 26), datetime.date(1950, 9, 5), datetime.date(1966, 10, 4), datetime.date(1970, 5, 25), datetime.date(1979, 9, 24), datetime.date(1960, 9, 23), datetime.date(2007, 8, 23), datetime.date(2009, 8, 16), datetime.date(1996, 10, 18), datetime.date(2012, 10, 25), datetime.date(2011, 8, 25), datetime.date(1951, 5, 18), datetime.date(1980, 8, 7), datetime.date(1979, 9, 3), datetime.date(1953, 9, 26), datetime.date(1968, 10, 19), datetime.date(2009, 11, 9), datetime.date(1999, 8, 29), datetime.date(2015, 10, 1), datetime.date(2008, 9, 2), datetime.date(2004, 10, 10), datetime.date(2004, 9, 16), datetime.date(1992, 8, 24), datetime.date(2000, 9, 9), datetime.date(1971, 9, 16), datetime.date(1996, 9, 2), datetime.date(1998, 9, 3), datetime.date(1951, 10, 2), datetime.date(1979, 9, 12), datetime.date(2007, 10, 31), datetime.date(1953, 10, 9), datetime.date(1952, 8, 30), datetime.date(1969, 9, 7), datetime.date(2015, 8, 30), datetime.date(1959, 10, 8), datetime.date(2002, 7, 13), datetime.date(1961, 10, 29), datetime.date(2007, 5, 9), datetime.date(2016, 10, 7), datetime.date(1964, 9, 20), datetime.date(1979, 7, 11), datetime.date(1950, 10, 18), datetime.date(2008, 8, 31), datetime.date(2012, 8, 25), datetime.date(1966, 7, 24), datetime.date(2010, 8, 10), datetime.date(2005, 8, 25), datetime.date(2003, 6, 30), datetime.date(1956, 7, 6), datetime.date(1974, 9, 8), datetime.date(1966, 6, 30), datetime.date(2016, 9, 14), datetime.date(1968, 6, 18), datetime.date(1982, 9, 11), datetime.date(1976, 9, 13), datetime.date(1975, 7, 29), datetime.date(2007, 9, 13), datetime.date(1970, 9, 27), datetime.date(1969, 10, 2), datetime.date(2010, 8, 31), datetime.date(1995, 10, 4), datetime.date(1969, 8, 29), datetime.date(1984, 10, 26), datetime.date(1973, 9, 3), datetime.date(1976, 5, 23), datetime.date(2001, 11, 5), datetime.date(2010, 6, 30), datetime.date(1985, 10, 10), datetime.date(1970, 7, 22), datetime.date(1972, 5, 28), datetime.date(1982, 6, 18), datetime.date(2001, 8, 6), datetime.date(1953, 8, 29), datetime.date(1965, 9, 8), datetime.date(1964, 9, 10), datetime.date(1959, 10, 18), datetime.date(1957, 6, 8), datetime.date(1988, 9, 10), datetime.date(2005, 6, 11), datetime.date(1953, 6, 6), datetime.date(2003, 8, 30), datetime.date(2002, 10, 3), datetime.date(1968, 8, 10), datetime.date(1999, 10, 15), datetime.date(2002, 9, 4), datetime.date(2001, 6, 12), datetime.date(2017, 9, 10), datetime.date(2005, 10, 5), datetime.date(2005, 7, 10), datetime.date(1973, 6, 7), datetime.date(1999, 9, 15), datetime.date(2005, 9, 20), datetime.date(1995, 6, 5), datetime.date(2003, 7, 25), datetime.date(2004, 9, 13), datetime.date(1964, 6, 6), datetime.date(1973, 6, 23), datetime.date(2005, 9, 12), datetime.date(2012, 6, 23), datetime.date(1961, 9, 11), datetime.date(1990, 5, 25), datetime.date(2017, 6, 21), datetime.date(1975, 6, 27), datetime.date(1959, 6, 18), datetime.date(2004, 9, 5), datetime.date(1987, 10, 12), datetime.date(1995, 7, 27), datetime.date(1964, 10, 14), datetime.date(1970, 8, 6), datetime.date(1969, 10, 1), datetime.date(1996, 10, 8), datetime.date(1968, 8, 28), datetime.date(1956, 10, 15), datetime.date(1975, 9, 23), datetime.date(1970, 9, 13), datetime.date(1975, 10, 16), datetime.date(1990, 10, 9), datetime.date(2005, 10, 24), datetime.date(1950, 8, 31), datetime.date(2000, 10, 3), datetime.date(2002, 10, 11), datetime.date(1983, 8, 28), datetime.date(1960, 7, 29), datetime.date(1950, 10, 21), datetime.date(1995, 8, 2), datetime.date(1956, 9, 24), datetime.date(2016, 9, 1), datetime.date(1993, 6, 1), datetime.date(1987, 9, 7), datetime.date(2012, 5, 28), datetime.date(1995, 8, 23), datetime.date(1969, 8, 18), datetime.date(2001, 9, 14), datetime.date(2000, 8, 23), datetime.date(1974, 10, 7), datetime.date(1986, 8, 13), datetime.date(1977, 8, 27), datetime.date(2008, 7, 16), datetime.date(1996, 7, 11), datetime.date(1988, 9, 4), datetime.date(1975, 10, 1), datetime.date(2003, 8, 14), datetime.date(1957, 9, 8), datetime.date(2005, 7, 6), datetime.date(1960, 9, 15), datetime.date(1974, 9, 27), datetime.date(1965, 6, 15), datetime.date(1999, 9, 21), datetime.date(2004, 8, 13), datetime.date(1994, 10, 2), datetime.date(1971, 8, 10), datetime.date(2008, 7, 22), datetime.date(2000, 9, 18), datetime.date(1960, 9, 10), datetime.date(2006, 6, 13), datetime.date(2017, 10, 29), datetime.date(1972, 9, 5), datetime.date(1964, 10, 5), datetime.date(1991, 10, 16), datetime.date(1969, 9, 21), datetime.date(1998, 9, 20), datetime.date(1977, 9, 5), datetime.date(1988, 9, 13), datetime.date(1974, 6, 25), datetime.date(2010, 7, 23), datetime.date(2007, 9, 22), datetime.date(1984, 9, 9), datetime.date(1989, 9, 22), datetime.date(1992, 6, 25), datetime.date(1971, 8, 29), datetime.date(1953, 9, 20), datetime.date(1985, 8, 15), datetime.date(2016, 6, 6), datetime.date(2006, 8, 30), datetime.date(1980, 11, 18), datetime.date(2011, 7, 18)]\n"
     ]
    }
   ],
   "source": [
    "print(fhd)"
   ]
  },
  {
   "cell_type": "code",
   "execution_count": 18,
   "id": "d8b328d2",
   "metadata": {},
   "outputs": [],
   "source": [
    "early_hurricanes = 0"
   ]
  },
  {
   "cell_type": "code",
   "execution_count": 20,
   "id": "4a4c8565",
   "metadata": {},
   "outputs": [],
   "source": [
    "for hurricane in fhd:\n",
    "    if hurricane.month <6:\n",
    "        early_hurricanes = early_hurricanes + 1"
   ]
  },
  {
   "cell_type": "code",
   "execution_count": 21,
   "id": "d1b50b92",
   "metadata": {},
   "outputs": [
    {
     "name": "stdout",
     "output_type": "stream",
     "text": [
      "10\n"
     ]
    }
   ],
   "source": [
    "print(early_hurricanes)"
   ]
  },
  {
   "cell_type": "code",
   "execution_count": null,
   "id": "d1226489",
   "metadata": {},
   "outputs": [],
   "source": []
  }
 ],
 "metadata": {
  "kernelspec": {
   "display_name": "Python 3 (ipykernel)",
   "language": "python",
   "name": "python3"
  },
  "language_info": {
   "codemirror_mode": {
    "name": "ipython",
    "version": 3
   },
   "file_extension": ".py",
   "mimetype": "text/x-python",
   "name": "python",
   "nbconvert_exporter": "python",
   "pygments_lexer": "ipython3",
   "version": "3.9.7"
  }
 },
 "nbformat": 4,
 "nbformat_minor": 5
}
