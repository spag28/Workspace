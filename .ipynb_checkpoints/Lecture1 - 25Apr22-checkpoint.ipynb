{
 "cells": [
  {
   "cell_type": "code",
   "execution_count": 2,
   "id": "0fed08f8",
   "metadata": {},
   "outputs": [
    {
     "ename": "NameError",
     "evalue": "name 'value' is not defined",
     "output_type": "error",
     "traceback": [
      "\u001b[1;31m---------------------------------------------------------------------------\u001b[0m",
      "\u001b[1;31mNameError\u001b[0m                                 Traceback (most recent call last)",
      "\u001b[1;32m~\\AppData\\Local\\Temp/ipykernel_13232/1428009515.py\u001b[0m in \u001b[0;36m<module>\u001b[1;34m\u001b[0m\n\u001b[1;32m----> 1\u001b[1;33m \u001b[0mvariables\u001b[0m \u001b[1;33m=\u001b[0m \u001b[0mvalue\u001b[0m\u001b[1;33m\u001b[0m\u001b[1;33m\u001b[0m\u001b[0m\n\u001b[0m\u001b[0;32m      2\u001b[0m \u001b[0mfunction\u001b[0m\u001b[1;33m\u001b[0m\u001b[1;33m\u001b[0m\u001b[0m\n",
      "\u001b[1;31mNameError\u001b[0m: name 'value' is not defined"
     ]
    }
   ],
   "source": [
    "variables = value\n",
    "function\n"
   ]
  },
  {
   "cell_type": "code",
   "execution_count": 3,
   "id": "707a9fac",
   "metadata": {},
   "outputs": [],
   "source": [
    "a= 2\n"
   ]
  },
  {
   "cell_type": "code",
   "execution_count": 4,
   "id": "3d87f6ac",
   "metadata": {},
   "outputs": [
    {
     "ename": "NameError",
     "evalue": "name 'b' is not defined",
     "output_type": "error",
     "traceback": [
      "\u001b[1;31m---------------------------------------------------------------------------\u001b[0m",
      "\u001b[1;31mNameError\u001b[0m                                 Traceback (most recent call last)",
      "\u001b[1;32m~\\AppData\\Local\\Temp/ipykernel_13232/1685013873.py\u001b[0m in \u001b[0;36m<module>\u001b[1;34m\u001b[0m\n\u001b[1;32m----> 1\u001b[1;33m \u001b[0mb\u001b[0m\u001b[1;33m\u001b[0m\u001b[1;33m\u001b[0m\u001b[0m\n\u001b[0m",
      "\u001b[1;31mNameError\u001b[0m: name 'b' is not defined"
     ]
    }
   ],
   "source": [
    "b"
   ]
  },
  {
   "cell_type": "code",
   "execution_count": 6,
   "id": "f935347f",
   "metadata": {},
   "outputs": [
    {
     "data": {
      "text/plain": [
       "2"
      ]
     },
     "execution_count": 6,
     "metadata": {},
     "output_type": "execute_result"
    }
   ],
   "source": [
    "a"
   ]
  },
  {
   "cell_type": "code",
   "execution_count": 7,
   "id": "78605f02",
   "metadata": {},
   "outputs": [
    {
     "data": {
      "text/plain": [
       "'hello'"
      ]
     },
     "execution_count": 7,
     "metadata": {},
     "output_type": "execute_result"
    }
   ],
   "source": [
    "\"hello\""
   ]
  },
  {
   "cell_type": "code",
   "execution_count": 9,
   "id": "60b1fed1",
   "metadata": {},
   "outputs": [
    {
     "data": {
      "text/plain": [
       "'hello'"
      ]
     },
     "execution_count": 9,
     "metadata": {},
     "output_type": "execute_result"
    }
   ],
   "source": [
    "c=\"hello\"\n",
    "c"
   ]
  },
  {
   "cell_type": "code",
   "execution_count": 12,
   "id": "b3525a5a",
   "metadata": {},
   "outputs": [],
   "source": [
    "a = \"hElLo HoW ArE YoU\""
   ]
  },
  {
   "cell_type": "code",
   "execution_count": 13,
   "id": "0a09a443",
   "metadata": {},
   "outputs": [
    {
     "data": {
      "text/plain": [
       "'Hello How Are You'"
      ]
     },
     "execution_count": 13,
     "metadata": {},
     "output_type": "execute_result"
    }
   ],
   "source": [
    "a.title()"
   ]
  },
  {
   "cell_type": "code",
   "execution_count": 14,
   "id": "1c1f44f2",
   "metadata": {},
   "outputs": [],
   "source": [
    "a=2\n",
    "b=3"
   ]
  },
  {
   "cell_type": "code",
   "execution_count": 15,
   "id": "227e23b5",
   "metadata": {},
   "outputs": [
    {
     "name": "stdout",
     "output_type": "stream",
     "text": [
      "5\n"
     ]
    }
   ],
   "source": [
    "add = a+b\n",
    "print(add)"
   ]
  },
  {
   "cell_type": "markdown",
   "id": "62b18b36",
   "metadata": {},
   "source": [
    "-\n",
    "*\n",
    "/\n",
    "**\n",
    "//\n",
    "%"
   ]
  },
  {
   "cell_type": "code",
   "execution_count": 16,
   "id": "f842ef84",
   "metadata": {},
   "outputs": [],
   "source": [
    "c=4"
   ]
  },
  {
   "cell_type": "code",
   "execution_count": 17,
   "id": "2151c5f3",
   "metadata": {},
   "outputs": [],
   "source": [
    "d=1"
   ]
  },
  {
   "cell_type": "code",
   "execution_count": 18,
   "id": "0f9fdee7",
   "metadata": {},
   "outputs": [
    {
     "name": "stdout",
     "output_type": "stream",
     "text": [
      "3\n"
     ]
    }
   ],
   "source": [
    "subtract = c-d\n",
    "print(subtract)"
   ]
  },
  {
   "cell_type": "code",
   "execution_count": 19,
   "id": "b5cdce6c",
   "metadata": {},
   "outputs": [
    {
     "name": "stdout",
     "output_type": "stream",
     "text": [
      "6\n"
     ]
    }
   ],
   "source": [
    "multiply = a*b\n",
    "print(multiply)"
   ]
  },
  {
   "cell_type": "code",
   "execution_count": 20,
   "id": "d4857858",
   "metadata": {},
   "outputs": [
    {
     "name": "stdout",
     "output_type": "stream",
     "text": [
      "2.0\n"
     ]
    }
   ],
   "source": [
    "divide = c/a\n",
    "print(divide)"
   ]
  },
  {
   "cell_type": "code",
   "execution_count": 21,
   "id": "03230afa",
   "metadata": {},
   "outputs": [
    {
     "name": "stdout",
     "output_type": "stream",
     "text": [
      "64\n"
     ]
    }
   ],
   "source": [
    "exponential = c**b\n",
    "print(exponential)"
   ]
  },
  {
   "cell_type": "code",
   "execution_count": 28,
   "id": "749a7e5e",
   "metadata": {},
   "outputs": [
    {
     "name": "stdout",
     "output_type": "stream",
     "text": [
      "1\n"
     ]
    }
   ],
   "source": [
    "round_div = e//f\n",
    "print(round_div)"
   ]
  },
  {
   "cell_type": "code",
   "execution_count": 29,
   "id": "97a5595d",
   "metadata": {},
   "outputs": [
    {
     "name": "stdout",
     "output_type": "stream",
     "text": [
      "4\n"
     ]
    }
   ],
   "source": [
    "remainder = e%f\n",
    "print(remainder)"
   ]
  },
  {
   "cell_type": "code",
   "execution_count": 26,
   "id": "ead92a29",
   "metadata": {},
   "outputs": [],
   "source": [
    "e= 9\n",
    "f=5\n"
   ]
  },
  {
   "cell_type": "code",
   "execution_count": 30,
   "id": "006f4e6c",
   "metadata": {},
   "outputs": [
    {
     "data": {
      "text/plain": [
       "4"
      ]
     },
     "execution_count": 30,
     "metadata": {},
     "output_type": "execute_result"
    }
   ],
   "source": [
    "remainder"
   ]
  },
  {
   "cell_type": "code",
   "execution_count": 1,
   "id": "f802e5f2",
   "metadata": {},
   "outputs": [],
   "source": [
    "#testing changes to GIT\n"
   ]
  },
  {
   "cell_type": "code",
   "execution_count": 2,
   "id": "4db4d475",
   "metadata": {},
   "outputs": [
    {
     "ename": "SyntaxError",
     "evalue": "invalid syntax (Temp/ipykernel_6436/2603231465.py, line 1)",
     "output_type": "error",
     "traceback": [
      "\u001b[1;36m  File \u001b[1;32m\"C:\\Users\\spagg\\AppData\\Local\\Temp/ipykernel_6436/2603231465.py\"\u001b[1;36m, line \u001b[1;32m1\u001b[0m\n\u001b[1;33m    // test\u001b[0m\n\u001b[1;37m    ^\u001b[0m\n\u001b[1;31mSyntaxError\u001b[0m\u001b[1;31m:\u001b[0m invalid syntax\n"
     ]
    }
   ],
   "source": [
    "// test\n"
   ]
  },
  {
   "cell_type": "code",
   "execution_count": null,
   "id": "35d740a3",
   "metadata": {},
   "outputs": [],
   "source": []
  },
  {
   "cell_type": "code",
   "execution_count": null,
   "id": "b06b016d",
   "metadata": {},
   "outputs": [],
   "source": []
  }
 ],
 "metadata": {
  "kernelspec": {
   "display_name": "Python 3 (ipykernel)",
   "language": "python",
   "name": "python3"
  },
  "language_info": {
   "codemirror_mode": {
    "name": "ipython",
    "version": 3
   },
   "file_extension": ".py",
   "mimetype": "text/x-python",
   "name": "python",
   "nbconvert_exporter": "python",
   "pygments_lexer": "ipython3",
   "version": "3.9.7"
  }
 },
 "nbformat": 4,
 "nbformat_minor": 5
}
