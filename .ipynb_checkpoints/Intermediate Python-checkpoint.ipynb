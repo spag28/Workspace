{
 "cells": [
  {
   "cell_type": "code",
   "execution_count": 1,
   "id": "213e61db",
   "metadata": {},
   "outputs": [],
   "source": [
    "import pandas as pd"
   ]
  },
  {
   "cell_type": "code",
   "execution_count": 3,
   "id": "bb17bf42",
   "metadata": {},
   "outputs": [],
   "source": [
    "brics=pd.read_csv(r'C:\\Users\\spagg\\Documents\\Python\\3. Intermediate Python\\brics.csv')"
   ]
  },
  {
   "cell_type": "code",
   "execution_count": 5,
   "id": "14351c47",
   "metadata": {},
   "outputs": [],
   "source": [
    "cars = pd.read_csv(r'C:\\Users\\spagg\\Documents\\Python\\3. Intermediate Python\\cars.csv')"
   ]
  },
  {
   "cell_type": "code",
   "execution_count": 6,
   "id": "b84a5f95",
   "metadata": {},
   "outputs": [],
   "source": [
    "gapminder = pd.read_csv(r'C:\\Users\\spagg\\Documents\\Python\\3. Intermediate Python\\gapminder.csv')"
   ]
  },
  {
   "cell_type": "code",
   "execution_count": 7,
   "id": "f46c2f43",
   "metadata": {},
   "outputs": [
    {
     "ename": "NameError",
     "evalue": "name 'year' is not defined",
     "output_type": "error",
     "traceback": [
      "\u001b[1;31m---------------------------------------------------------------------------\u001b[0m",
      "\u001b[1;31mNameError\u001b[0m                                 Traceback (most recent call last)",
      "\u001b[1;32m~\\AppData\\Local\\Temp/ipykernel_8580/2429846929.py\u001b[0m in \u001b[0;36m<module>\u001b[1;34m\u001b[0m\n\u001b[1;32m----> 1\u001b[1;33m \u001b[0mprint\u001b[0m\u001b[1;33m(\u001b[0m\u001b[0mmax\u001b[0m\u001b[1;33m(\u001b[0m\u001b[0myear\u001b[0m\u001b[1;33m)\u001b[0m\u001b[1;33m)\u001b[0m\u001b[1;33m\u001b[0m\u001b[1;33m\u001b[0m\u001b[0m\n\u001b[0m",
      "\u001b[1;31mNameError\u001b[0m: name 'year' is not defined"
     ]
    }
   ],
   "source": [
    "print(max(year))"
   ]
  },
  {
   "cell_type": "code",
   "execution_count": 8,
   "id": "56f55817",
   "metadata": {},
   "outputs": [
    {
     "name": "stderr",
     "output_type": "stream",
     "text": [
      "Matplotlib is building the font cache; this may take a moment.\n"
     ]
    }
   ],
   "source": [
    "import matplotlib.pyplot as plt"
   ]
  },
  {
   "cell_type": "code",
   "execution_count": 10,
   "id": "50065de8",
   "metadata": {},
   "outputs": [
    {
     "ename": "NameError",
     "evalue": "name 'gdp_cap' is not defined",
     "output_type": "error",
     "traceback": [
      "\u001b[1;31m---------------------------------------------------------------------------\u001b[0m",
      "\u001b[1;31mNameError\u001b[0m                                 Traceback (most recent call last)",
      "\u001b[1;32m~\\AppData\\Local\\Temp/ipykernel_8580/4019310715.py\u001b[0m in \u001b[0;36m<module>\u001b[1;34m\u001b[0m\n\u001b[1;32m----> 1\u001b[1;33m \u001b[0mprint\u001b[0m\u001b[1;33m(\u001b[0m\u001b[0mgdp_cap\u001b[0m\u001b[1;33m[\u001b[0m\u001b[1;33m-\u001b[0m\u001b[1;36m1\u001b[0m\u001b[1;33m]\u001b[0m\u001b[1;33m)\u001b[0m\u001b[1;33m\u001b[0m\u001b[1;33m\u001b[0m\u001b[0m\n\u001b[0m",
      "\u001b[1;31mNameError\u001b[0m: name 'gdp_cap' is not defined"
     ]
    }
   ],
   "source": [
    "print(gdp_cap[-1])"
   ]
  },
  {
   "cell_type": "code",
   "execution_count": 11,
   "id": "923775fe",
   "metadata": {},
   "outputs": [],
   "source": [
    "countries = ['spain','france','germany','norway']"
   ]
  },
  {
   "cell_type": "code",
   "execution_count": 13,
   "id": "848d3478",
   "metadata": {},
   "outputs": [],
   "source": [
    "capitals = ['madrid','paris','berlin','oslo']"
   ]
  },
  {
   "cell_type": "code",
   "execution_count": 14,
   "id": "6b391d71",
   "metadata": {},
   "outputs": [],
   "source": [
    "ind_ger = countries.index('germany')"
   ]
  },
  {
   "cell_type": "code",
   "execution_count": 15,
   "id": "2332ec2e",
   "metadata": {},
   "outputs": [
    {
     "name": "stdout",
     "output_type": "stream",
     "text": [
      "berlin\n"
     ]
    }
   ],
   "source": [
    "print(capitals[ind_ger])"
   ]
  },
  {
   "cell_type": "code",
   "execution_count": 16,
   "id": "246a2431",
   "metadata": {},
   "outputs": [],
   "source": [
    "europe = {'spain':'madrid','france':'paris','germany':'berlin','norway':'oslo'}"
   ]
  },
  {
   "cell_type": "code",
   "execution_count": 17,
   "id": "23b05fe2",
   "metadata": {},
   "outputs": [
    {
     "name": "stdout",
     "output_type": "stream",
     "text": [
      "{'spain': 'madrid', 'france': 'paris', 'germany': 'berlin', 'norway': 'oslo'}\n"
     ]
    }
   ],
   "source": [
    "print(europe)"
   ]
  },
  {
   "cell_type": "code",
   "execution_count": 18,
   "id": "f1dee97e",
   "metadata": {},
   "outputs": [
    {
     "name": "stdout",
     "output_type": "stream",
     "text": [
      "dict_keys(['spain', 'france', 'germany', 'norway'])\n"
     ]
    }
   ],
   "source": [
    "print(europe.keys())"
   ]
  },
  {
   "cell_type": "code",
   "execution_count": 19,
   "id": "baa80f26",
   "metadata": {},
   "outputs": [
    {
     "name": "stdout",
     "output_type": "stream",
     "text": [
      "oslo\n"
     ]
    }
   ],
   "source": [
    "print(europe['norway'])"
   ]
  },
  {
   "cell_type": "code",
   "execution_count": 20,
   "id": "91b8630b",
   "metadata": {},
   "outputs": [],
   "source": [
    "europe['italy'] = 'rome'"
   ]
  },
  {
   "cell_type": "code",
   "execution_count": 21,
   "id": "93d4651f",
   "metadata": {},
   "outputs": [
    {
     "name": "stdout",
     "output_type": "stream",
     "text": [
      "True\n"
     ]
    }
   ],
   "source": [
    "print('italy' in europe)"
   ]
  },
  {
   "cell_type": "code",
   "execution_count": 22,
   "id": "20f7f034",
   "metadata": {},
   "outputs": [],
   "source": [
    "europe['poland'] = 'warsaw'"
   ]
  },
  {
   "cell_type": "code",
   "execution_count": 23,
   "id": "9cacf807",
   "metadata": {},
   "outputs": [
    {
     "name": "stdout",
     "output_type": "stream",
     "text": [
      "{'spain': 'madrid', 'france': 'paris', 'germany': 'berlin', 'norway': 'oslo', 'italy': 'rome', 'poland': 'warsaw'}\n"
     ]
    }
   ],
   "source": [
    "print(europe)"
   ]
  },
  {
   "cell_type": "code",
   "execution_count": 24,
   "id": "f7f80816",
   "metadata": {},
   "outputs": [],
   "source": [
    "europe['germany'] = 'bonn'"
   ]
  },
  {
   "cell_type": "code",
   "execution_count": 25,
   "id": "48be4e27",
   "metadata": {},
   "outputs": [],
   "source": [
    "del(europe['poland'])"
   ]
  },
  {
   "cell_type": "code",
   "execution_count": 26,
   "id": "90064e78",
   "metadata": {},
   "outputs": [
    {
     "name": "stdout",
     "output_type": "stream",
     "text": [
      "{'spain': 'madrid', 'france': 'paris', 'germany': 'bonn', 'norway': 'oslo', 'italy': 'rome'}\n"
     ]
    }
   ],
   "source": [
    "print(europe)"
   ]
  },
  {
   "cell_type": "code",
   "execution_count": 30,
   "id": "41861be3",
   "metadata": {},
   "outputs": [
    {
     "ename": "TypeError",
     "evalue": "string indices must be integers",
     "output_type": "error",
     "traceback": [
      "\u001b[1;31m---------------------------------------------------------------------------\u001b[0m",
      "\u001b[1;31mTypeError\u001b[0m                                 Traceback (most recent call last)",
      "\u001b[1;32m~\\AppData\\Local\\Temp/ipykernel_8580/4118222774.py\u001b[0m in \u001b[0;36m<module>\u001b[1;34m\u001b[0m\n\u001b[1;32m----> 1\u001b[1;33m \u001b[0mprint\u001b[0m\u001b[1;33m(\u001b[0m\u001b[0meurope\u001b[0m\u001b[1;33m[\u001b[0m\u001b[1;34m'france'\u001b[0m\u001b[1;33m]\u001b[0m\u001b[1;33m[\u001b[0m\u001b[1;34m'capital'\u001b[0m\u001b[1;33m]\u001b[0m\u001b[1;33m)\u001b[0m\u001b[1;33m\u001b[0m\u001b[1;33m\u001b[0m\u001b[0m\n\u001b[0m",
      "\u001b[1;31mTypeError\u001b[0m: string indices must be integers"
     ]
    }
   ],
   "source": [
    "print(europe['france']['capital'])"
   ]
  },
  {
   "cell_type": "code",
   "execution_count": 34,
   "id": "cb5cbcdd",
   "metadata": {},
   "outputs": [],
   "source": [
    "data = {'capital':'rome','population':59.83}"
   ]
  },
  {
   "cell_type": "code",
   "execution_count": 35,
   "id": "745e9f07",
   "metadata": {},
   "outputs": [],
   "source": [
    "europe['italy'] = data"
   ]
  },
  {
   "cell_type": "code",
   "execution_count": 36,
   "id": "e0f16cbd",
   "metadata": {},
   "outputs": [
    {
     "name": "stdout",
     "output_type": "stream",
     "text": [
      "{'spain': 'madrid', 'france': 'paris', 'germany': 'bonn', 'norway': 'oslo', 'italy': {'capital': 'rome', 'population': 59.83}}\n"
     ]
    }
   ],
   "source": [
    "print(europe)"
   ]
  },
  {
   "cell_type": "code",
   "execution_count": 37,
   "id": "14c69aa0",
   "metadata": {},
   "outputs": [],
   "source": [
    "names = ['United States','Australia','Japan','India','Russia','Morocco','Egypt']\n",
    "dr = [True, False, False, False, True, True, True]\n",
    "cpc = [809,731,588,18,200,70,45]"
   ]
  },
  {
   "cell_type": "code",
   "execution_count": 38,
   "id": "cf85d726",
   "metadata": {},
   "outputs": [],
   "source": [
    "import pandas as pd"
   ]
  },
  {
   "cell_type": "code",
   "execution_count": 39,
   "id": "8ec7b7b1",
   "metadata": {},
   "outputs": [],
   "source": [
    "my_dict = {\"country\":names,\"drives_right\":dr,\"cars_per_cap\":cpc}"
   ]
  },
  {
   "cell_type": "code",
   "execution_count": 40,
   "id": "abd5c55d",
   "metadata": {},
   "outputs": [],
   "source": [
    "cars = pd.DataFrame(my_dict)"
   ]
  },
  {
   "cell_type": "code",
   "execution_count": 41,
   "id": "1b9458f9",
   "metadata": {},
   "outputs": [
    {
     "name": "stdout",
     "output_type": "stream",
     "text": [
      "         country  drives_right  cars_per_cap\n",
      "0  United States          True           809\n",
      "1      Australia         False           731\n",
      "2          Japan         False           588\n",
      "3          India         False            18\n",
      "4         Russia          True           200\n",
      "5        Morocco          True            70\n",
      "6          Egypt          True            45\n"
     ]
    }
   ],
   "source": [
    "print(cars)"
   ]
  },
  {
   "cell_type": "code",
   "execution_count": 43,
   "id": "4e3be4fc",
   "metadata": {},
   "outputs": [],
   "source": [
    "row_labels = ['US','AUS','JPN','IN','RU','MOR','EG']"
   ]
  },
  {
   "cell_type": "code",
   "execution_count": 44,
   "id": "f392b36d",
   "metadata": {},
   "outputs": [],
   "source": [
    "cars.index = row_labels"
   ]
  },
  {
   "cell_type": "code",
   "execution_count": 45,
   "id": "f10f4d63",
   "metadata": {},
   "outputs": [
    {
     "name": "stdout",
     "output_type": "stream",
     "text": [
      "           country  drives_right  cars_per_cap\n",
      "US   United States          True           809\n",
      "AUS      Australia         False           731\n",
      "JPN          Japan         False           588\n",
      "IN           India         False            18\n",
      "RU          Russia          True           200\n",
      "MOR        Morocco          True            70\n",
      "EG           Egypt          True            45\n"
     ]
    }
   ],
   "source": [
    "print(cars)"
   ]
  },
  {
   "cell_type": "code",
   "execution_count": 46,
   "id": "2c323ada",
   "metadata": {},
   "outputs": [],
   "source": [
    "import pandas as pd\n"
   ]
  },
  {
   "cell_type": "code",
   "execution_count": 49,
   "id": "33f45472",
   "metadata": {},
   "outputs": [],
   "source": [
    "cars = pd.read_csv(r'C:\\Users\\spagg\\Documents\\Python\\3. Intermediate Python\\cars.csv')"
   ]
  },
  {
   "cell_type": "code",
   "execution_count": 50,
   "id": "25fc72f7",
   "metadata": {},
   "outputs": [
    {
     "name": "stdout",
     "output_type": "stream",
     "text": [
      "  Unnamed: 0  cars_per_cap        country  drives_right\n",
      "0         US           809  United States          True\n",
      "1        AUS           731      Australia         False\n",
      "2        JAP           588          Japan         False\n",
      "3         IN            18          India         False\n",
      "4         RU           200         Russia          True\n",
      "5        MOR            70        Morocco          True\n",
      "6         EG            45          Egypt          True\n"
     ]
    }
   ],
   "source": [
    "print(cars)"
   ]
  },
  {
   "cell_type": "code",
   "execution_count": 51,
   "id": "87fd2117",
   "metadata": {},
   "outputs": [],
   "source": [
    "cars = pd.read_csv(r'C:\\Users\\spagg\\Documents\\Python\\3. Intermediate Python\\cars.csv',index_col=0)"
   ]
  },
  {
   "cell_type": "code",
   "execution_count": 52,
   "id": "51ec39f0",
   "metadata": {},
   "outputs": [
    {
     "name": "stdout",
     "output_type": "stream",
     "text": [
      "     cars_per_cap        country  drives_right\n",
      "US            809  United States          True\n",
      "AUS           731      Australia         False\n",
      "JAP           588          Japan         False\n",
      "IN             18          India         False\n",
      "RU            200         Russia          True\n",
      "MOR            70        Morocco          True\n",
      "EG             45          Egypt          True\n"
     ]
    }
   ],
   "source": [
    "print(cars)"
   ]
  },
  {
   "cell_type": "code",
   "execution_count": 53,
   "id": "30273526",
   "metadata": {},
   "outputs": [
    {
     "name": "stdout",
     "output_type": "stream",
     "text": [
      "US     United States\n",
      "AUS        Australia\n",
      "JAP            Japan\n",
      "IN             India\n",
      "RU            Russia\n",
      "MOR          Morocco\n",
      "EG             Egypt\n",
      "Name: country, dtype: object\n"
     ]
    }
   ],
   "source": [
    "#series\n",
    "print(cars[\"country\"])"
   ]
  },
  {
   "cell_type": "code",
   "execution_count": 54,
   "id": "5517b7cb",
   "metadata": {},
   "outputs": [
    {
     "name": "stdout",
     "output_type": "stream",
     "text": [
      "           country\n",
      "US   United States\n",
      "AUS      Australia\n",
      "JAP          Japan\n",
      "IN           India\n",
      "RU          Russia\n",
      "MOR        Morocco\n",
      "EG           Egypt\n"
     ]
    }
   ],
   "source": [
    "#dataframe\n",
    "print(cars[[\"country\"]])"
   ]
  },
  {
   "cell_type": "code",
   "execution_count": 55,
   "id": "909511fc",
   "metadata": {},
   "outputs": [
    {
     "name": "stdout",
     "output_type": "stream",
     "text": [
      "           country  drives_right\n",
      "US   United States          True\n",
      "AUS      Australia         False\n",
      "JAP          Japan         False\n",
      "IN           India         False\n",
      "RU          Russia          True\n",
      "MOR        Morocco          True\n",
      "EG           Egypt          True\n"
     ]
    }
   ],
   "source": [
    "print(cars[['country','drives_right']])"
   ]
  },
  {
   "cell_type": "code",
   "execution_count": 56,
   "id": "731560e0",
   "metadata": {},
   "outputs": [
    {
     "name": "stdout",
     "output_type": "stream",
     "text": [
      "     cars_per_cap        country  drives_right\n",
      "US            809  United States          True\n",
      "AUS           731      Australia         False\n",
      "JAP           588          Japan         False\n"
     ]
    }
   ],
   "source": [
    "print(cars[0:3])"
   ]
  },
  {
   "cell_type": "code",
   "execution_count": 57,
   "id": "9697ef53",
   "metadata": {},
   "outputs": [
    {
     "name": "stdout",
     "output_type": "stream",
     "text": [
      "     cars_per_cap  country  drives_right\n",
      "IN             18    India         False\n",
      "RU            200   Russia          True\n",
      "MOR            70  Morocco          True\n"
     ]
    }
   ],
   "source": [
    "print(cars[3:6])"
   ]
  },
  {
   "cell_type": "code",
   "execution_count": 62,
   "id": "ed74a06c",
   "metadata": {},
   "outputs": [
    {
     "name": "stdout",
     "output_type": "stream",
     "text": [
      "cars_per_cap      588\n",
      "country         Japan\n",
      "drives_right    False\n",
      "Name: JAP, dtype: object\n"
     ]
    }
   ],
   "source": [
    "print(cars.loc['JAP'])"
   ]
  },
  {
   "cell_type": "code",
   "execution_count": 63,
   "id": "de8711cd",
   "metadata": {},
   "outputs": [
    {
     "name": "stdout",
     "output_type": "stream",
     "text": [
      "     cars_per_cap        country  drives_right\n",
      "US            809  United States          True\n",
      "AUS           731      Australia         False\n",
      "JAP           588          Japan         False\n",
      "IN             18          India         False\n",
      "RU            200         Russia          True\n",
      "MOR            70        Morocco          True\n",
      "EG             45          Egypt          True\n"
     ]
    }
   ],
   "source": [
    "print(cars)"
   ]
  },
  {
   "cell_type": "code",
   "execution_count": 68,
   "id": "ed1923c9",
   "metadata": {},
   "outputs": [
    {
     "name": "stdout",
     "output_type": "stream",
     "text": [
      "     cars_per_cap    country  drives_right\n",
      "AUS           731  Australia         False\n",
      "EG             45      Egypt          True\n"
     ]
    }
   ],
   "source": [
    "print(cars.iloc[[1,-1]])"
   ]
  },
  {
   "cell_type": "code",
   "execution_count": 69,
   "id": "92247469",
   "metadata": {},
   "outputs": [
    {
     "name": "stdout",
     "output_type": "stream",
     "text": [
      "True\n"
     ]
    }
   ],
   "source": [
    "print(cars.loc['MOR','drives_right'])"
   ]
  },
  {
   "cell_type": "code",
   "execution_count": 72,
   "id": "77468146",
   "metadata": {},
   "outputs": [
    {
     "name": "stdout",
     "output_type": "stream",
     "text": [
      "     country  drives_right\n",
      "RU    Russia          True\n",
      "MOR  Morocco          True\n"
     ]
    }
   ],
   "source": [
    "print(cars.loc[['RU','MOR'],['country','drives_right']])"
   ]
  },
  {
   "cell_type": "code",
   "execution_count": 73,
   "id": "b9707d7c",
   "metadata": {},
   "outputs": [
    {
     "data": {
      "text/plain": [
       "False"
      ]
     },
     "execution_count": 73,
     "metadata": {},
     "output_type": "execute_result"
    }
   ],
   "source": [
    "True == False"
   ]
  },
  {
   "cell_type": "code",
   "execution_count": 74,
   "id": "922167b8",
   "metadata": {},
   "outputs": [
    {
     "data": {
      "text/plain": [
       "True"
      ]
     },
     "execution_count": 74,
     "metadata": {},
     "output_type": "execute_result"
    }
   ],
   "source": [
    "-5*15 != 75"
   ]
  },
  {
   "cell_type": "code",
   "execution_count": 75,
   "id": "5b85e931",
   "metadata": {},
   "outputs": [
    {
     "data": {
      "text/plain": [
       "False"
      ]
     },
     "execution_count": 75,
     "metadata": {},
     "output_type": "execute_result"
    }
   ],
   "source": [
    "'pyscript' =='PyScript'"
   ]
  },
  {
   "cell_type": "code",
   "execution_count": 76,
   "id": "998f059d",
   "metadata": {},
   "outputs": [
    {
     "data": {
      "text/plain": [
       "True"
      ]
     },
     "execution_count": 76,
     "metadata": {},
     "output_type": "execute_result"
    }
   ],
   "source": [
    "True == 1"
   ]
  },
  {
   "cell_type": "code",
   "execution_count": 77,
   "id": "710989a5",
   "metadata": {},
   "outputs": [
    {
     "name": "stdout",
     "output_type": "stream",
     "text": [
      "False\n"
     ]
    }
   ],
   "source": [
    "x = -3 * 6\n",
    "print (x>=-10)"
   ]
  },
  {
   "cell_type": "code",
   "execution_count": 78,
   "id": "39fe8d4f",
   "metadata": {},
   "outputs": [
    {
     "name": "stdout",
     "output_type": "stream",
     "text": [
      "True\n"
     ]
    }
   ],
   "source": [
    "y = \"test\"\n",
    "print(\"test\"<= y)"
   ]
  },
  {
   "cell_type": "code",
   "execution_count": 79,
   "id": "41a2ab36",
   "metadata": {},
   "outputs": [
    {
     "data": {
      "text/plain": [
       "True"
      ]
     },
     "execution_count": 79,
     "metadata": {},
     "output_type": "execute_result"
    }
   ],
   "source": [
    "True>False"
   ]
  },
  {
   "cell_type": "code",
   "execution_count": null,
   "id": "42fe64d2",
   "metadata": {},
   "outputs": [],
   "source": []
  }
 ],
 "metadata": {
  "kernelspec": {
   "display_name": "Python 3 (ipykernel)",
   "language": "python",
   "name": "python3"
  },
  "language_info": {
   "codemirror_mode": {
    "name": "ipython",
    "version": 3
   },
   "file_extension": ".py",
   "mimetype": "text/x-python",
   "name": "python",
   "nbconvert_exporter": "python",
   "pygments_lexer": "ipython3",
   "version": "3.9.7"
  }
 },
 "nbformat": 4,
 "nbformat_minor": 5
}
