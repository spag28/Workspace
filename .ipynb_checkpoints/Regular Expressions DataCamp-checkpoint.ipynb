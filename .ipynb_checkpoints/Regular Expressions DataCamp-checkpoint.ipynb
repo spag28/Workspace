{
 "cells": [
  {
   "cell_type": "code",
   "execution_count": 1,
   "id": "7b96b08e",
   "metadata": {},
   "outputs": [
    {
     "ename": "SyntaxError",
     "evalue": "invalid syntax (Temp/ipykernel_28320/1602261575.py, line 2)",
     "output_type": "error",
     "traceback": [
      "\u001b[1;36m  File \u001b[1;32m\"C:\\Users\\spagg\\AppData\\Local\\Temp/ipykernel_28320/1602261575.py\"\u001b[1;36m, line \u001b[1;32m2\u001b[0m\n\u001b[1;33m    df = pd.read_csv(C:\\Users\\spagg\\Documents\\Python\\Regular Expressions files\\short_movies.csv)\u001b[0m\n\u001b[1;37m                      ^\u001b[0m\n\u001b[1;31mSyntaxError\u001b[0m\u001b[1;31m:\u001b[0m invalid syntax\n"
     ]
    }
   ],
   "source": [
    "import pandas as pd\n",
    "df = pd.read_csv(C:\\Users\\spagg\\Documents\\Python\\Regular Expressions files\\short_movies.csv)"
   ]
  },
  {
   "cell_type": "code",
   "execution_count": 2,
   "id": "c00c87fd",
   "metadata": {},
   "outputs": [],
   "source": [
    "import pandas as pd\n"
   ]
  },
  {
   "cell_type": "code",
   "execution_count": 14,
   "id": "228cbc65",
   "metadata": {},
   "outputs": [],
   "source": [
    "df1 = pd.read_csv(r'C:\\Users\\spagg\\Documents\\Python\\Regular Expressions files\\short_movies.csv')"
   ]
  },
  {
   "cell_type": "code",
   "execution_count": 16,
   "id": "614c7475",
   "metadata": {},
   "outputs": [
    {
     "name": "stdout",
     "output_type": "stream",
     "text": [
      "       id    tag   html  sent id  \\\n",
      "0       0  cv000  29590        0   \n",
      "1       0  cv000  29590        1   \n",
      "2       0  cv000  29590        2   \n",
      "3       0  cv000  29590        3   \n",
      "4       0  cv000  29590        4   \n",
      "...    ..    ...    ...      ...   \n",
      "19995   6  cv615  14182       20   \n",
      "19996   6  cv615  14182       21   \n",
      "19997   6  cv615  14182       22   \n",
      "19998   6  cv615  14182       23   \n",
      "19999   6  cv616  29319        0   \n",
      "\n",
      "                                                    text target  \n",
      "0      films adapted from comic books have had plenty...    pos  \n",
      "1      for starters , it was created by alan moore ( ...    pos  \n",
      "2      to say moore and campbell thoroughly researche...    pos  \n",
      "3      the book ( or \" graphic novel , \" if you will ...    pos  \n",
      "4      in other words , don't dismiss this film becau...    pos  \n",
      "...                                                  ...    ...  \n",
      "19995  wilder's script is stunning , as he carefully ...    pos  \n",
      "19996  wilder manages to create scenes of utter hyste...    pos  \n",
      "19997  wilder's is dead wrong when he says nobody's p...    pos  \n",
      "19998                nobody's perfect but billy wilder .    pos  \n",
      "19999  a welcome cinematic trend over the past couple...    pos  \n",
      "\n",
      "[20000 rows x 6 columns]\n"
     ]
    }
   ],
   "source": [
    "print(df1)"
   ]
  },
  {
   "cell_type": "code",
   "execution_count": 17,
   "id": "7b19eb71",
   "metadata": {},
   "outputs": [],
   "source": [
    "df2 = pd.read_csv(r'C:\\Users\\spagg\\Documents\\Python\\Regular Expressions files\\short_tweets.csv')"
   ]
  },
  {
   "cell_type": "code",
   "execution_count": 19,
   "id": "71781b0a",
   "metadata": {},
   "outputs": [],
   "source": [
    "df3 = pd.read_csv(r'C:\\Users\\spagg\\Documents\\Python\\Regular Expressions files\\wikipedia.csv')"
   ]
  },
  {
   "cell_type": "code",
   "execution_count": 20,
   "id": "6438cf49",
   "metadata": {},
   "outputs": [
    {
     "ename": "NameError",
     "evalue": "name 'movie' is not defined",
     "output_type": "error",
     "traceback": [
      "\u001b[1;31m---------------------------------------------------------------------------\u001b[0m",
      "\u001b[1;31mNameError\u001b[0m                                 Traceback (most recent call last)",
      "\u001b[1;32m~\\AppData\\Local\\Temp/ipykernel_28320/4045065452.py\u001b[0m in \u001b[0;36m<module>\u001b[1;34m\u001b[0m\n\u001b[1;32m----> 1\u001b[1;33m \u001b[0mprint\u001b[0m\u001b[1;33m(\u001b[0m\u001b[0mmovie\u001b[0m\u001b[1;33m)\u001b[0m\u001b[1;33m\u001b[0m\u001b[1;33m\u001b[0m\u001b[0m\n\u001b[0m",
      "\u001b[1;31mNameError\u001b[0m: name 'movie' is not defined"
     ]
    }
   ],
   "source": [
    "print(movie)"
   ]
  },
  {
   "cell_type": "code",
   "execution_count": 24,
   "id": "3ad92332",
   "metadata": {},
   "outputs": [
    {
     "name": "stdout",
     "output_type": "stream",
     "text": [
      "       id    tag   html  sent id  \\\n",
      "0       0  cv000  29590        0   \n",
      "1       0  cv000  29590        1   \n",
      "2       0  cv000  29590        2   \n",
      "3       0  cv000  29590        3   \n",
      "4       0  cv000  29590        4   \n",
      "...    ..    ...    ...      ...   \n",
      "19995   6  cv615  14182       20   \n",
      "19996   6  cv615  14182       21   \n",
      "19997   6  cv615  14182       22   \n",
      "19998   6  cv615  14182       23   \n",
      "19999   6  cv616  29319        0   \n",
      "\n",
      "                                                    text target  \n",
      "0      films adapted from comic books have had plenty...    pos  \n",
      "1      for starters , it was created by alan moore ( ...    pos  \n",
      "2      to say moore and campbell thoroughly researche...    pos  \n",
      "3      the book ( or \" graphic novel , \" if you will ...    pos  \n",
      "4      in other words , don't dismiss this film becau...    pos  \n",
      "...                                                  ...    ...  \n",
      "19995  wilder's script is stunning , as he carefully ...    pos  \n",
      "19996  wilder manages to create scenes of utter hyste...    pos  \n",
      "19997  wilder's is dead wrong when he says nobody's p...    pos  \n",
      "19998                nobody's perfect but billy wilder .    pos  \n",
      "19999  a welcome cinematic trend over the past couple...    pos  \n",
      "\n",
      "[20000 rows x 6 columns]\n"
     ]
    }
   ],
   "source": [
    "print(df1)"
   ]
  },
  {
   "cell_type": "code",
   "execution_count": 25,
   "id": "ea1a959c",
   "metadata": {},
   "outputs": [
    {
     "name": "stdout",
     "output_type": "stream",
     "text": [
      "       target          id                          date      flag  \\\n",
      "0           0  1467821085  Mon Apr 06 22:22:26 PDT 2009  NO_QUERY   \n",
      "1           0  1467821338  Mon Apr 06 22:22:30 PDT 2009  NO_QUERY   \n",
      "2           0  1467821455  Mon Apr 06 22:22:32 PDT 2009  NO_QUERY   \n",
      "3           0  1467821715  Mon Apr 06 22:22:37 PDT 2009  NO_QUERY   \n",
      "4           0  1467822384  Mon Apr 06 22:22:47 PDT 2009  NO_QUERY   \n",
      "...       ...         ...                           ...       ...   \n",
      "19943       0  1556975331  Sun Apr 19 01:19:14 PDT 2009  NO_QUERY   \n",
      "19944       0  1556976068  Sun Apr 19 01:19:30 PDT 2009  NO_QUERY   \n",
      "19945       0  1556976167  Sun Apr 19 01:19:32 PDT 2009  NO_QUERY   \n",
      "19946       0  1556976222  Sun Apr 19 01:19:34 PDT 2009  NO_QUERY   \n",
      "19947       0  1556976246  Sun Apr 19 01:19:34 PDT 2009  NO_QUERY   \n",
      "\n",
      "                  user                                               text  \n",
      "0       crzy_cdn_bulas  our duck and chicken are taking wayyy too long...  \n",
      "1          justnetgirl  Put vacation photos online (They were so cute)...  \n",
      "2           CiaraRenee                                      I need a hug   \n",
      "3               deelau  @andywana Not sure what they are, only that th...  \n",
      "4          Lindsey0920             @oanhLove I hate when that happens...   \n",
      "...                ...                                                ...  \n",
      "19943  TOMurdockPapers  Not much time off this weekend, work trip to M...  \n",
      "19944        nikibennn                          One more day of holidays   \n",
      "19945     eifflesummer  feeling so down right now .. i hate you DAMN H...  \n",
      "19946        lomobabes  geez,i hv to READ the whole book of personalit...  \n",
      "19947      thatsblue2u  I threw my sign at donnie and he bent over to ...  \n",
      "\n",
      "[19948 rows x 6 columns]\n"
     ]
    }
   ],
   "source": [
    "print(df2)"
   ]
  },
  {
   "cell_type": "code",
   "execution_count": 26,
   "id": "94983726",
   "metadata": {},
   "outputs": [
    {
     "name": "stdout",
     "output_type": "stream",
     "text": [
      "   Unnamed: 0                      tool  \\\n",
      "0           0  Natural Language Toolkit   \n",
      "1           1                  TextBlob   \n",
      "2           2                    Gensim   \n",
      "3           3   artificial intelligence   \n",
      "\n",
      "                                         description  \n",
      "0  suite of libraries and programs for symbolic a...  \n",
      "1  Python library for processing textual data. It...  \n",
      "2  Gensim is a robust open-source vector space mo...  \n",
      "3  In computer science, artificial intelligence (...  \n"
     ]
    }
   ],
   "source": [
    "print(df3)"
   ]
  },
  {
   "cell_type": "code",
   "execution_count": 28,
   "id": "d793a17d",
   "metadata": {},
   "outputs": [
    {
     "ename": "NameError",
     "evalue": "name 'wikipedia_article' is not defined",
     "output_type": "error",
     "traceback": [
      "\u001b[1;31m---------------------------------------------------------------------------\u001b[0m",
      "\u001b[1;31mNameError\u001b[0m                                 Traceback (most recent call last)",
      "\u001b[1;32m~\\AppData\\Local\\Temp/ipykernel_28320/2351669049.py\u001b[0m in \u001b[0;36m<module>\u001b[1;34m\u001b[0m\n\u001b[1;32m----> 1\u001b[1;33m \u001b[0mfirst_pos\u001b[0m \u001b[1;33m=\u001b[0m \u001b[0mwikipedia_article\u001b[0m\u001b[1;33m[\u001b[0m\u001b[1;36m3\u001b[0m\u001b[1;33m:\u001b[0m\u001b[1;36m19\u001b[0m\u001b[1;33m]\u001b[0m\u001b[1;33m.\u001b[0m\u001b[0mlower\u001b[0m\u001b[1;33m(\u001b[0m\u001b[1;33m)\u001b[0m\u001b[1;33m\u001b[0m\u001b[1;33m\u001b[0m\u001b[0m\n\u001b[0m\u001b[0;32m      2\u001b[0m \u001b[0msecond_pos\u001b[0m \u001b[1;33m=\u001b[0m \u001b[0mwikipedia_article\u001b[0m\u001b[1;33m[\u001b[0m\u001b[1;36m21\u001b[0m\u001b[1;33m:\u001b[0m\u001b[1;36m44\u001b[0m\u001b[1;33m]\u001b[0m\u001b[1;33m.\u001b[0m\u001b[0mlower\u001b[0m\u001b[1;33m(\u001b[0m\u001b[1;33m)\u001b[0m\u001b[1;33m\u001b[0m\u001b[1;33m\u001b[0m\u001b[0m\n",
      "\u001b[1;31mNameError\u001b[0m: name 'wikipedia_article' is not defined"
     ]
    }
   ],
   "source": [
    "first_pos = wikipedia_article[3:19].lower()\n",
    "second_pos = wikipedia_article[21:44].lower()"
   ]
  },
  {
   "cell_type": "code",
   "execution_count": 29,
   "id": "aaae596e",
   "metadata": {},
   "outputs": [],
   "source": [
    "import re\n"
   ]
  },
  {
   "cell_type": "code",
   "execution_count": 30,
   "id": "43a0bf13",
   "metadata": {},
   "outputs": [],
   "source": [
    "regex = r\"@robot\\d\\W\""
   ]
  },
  {
   "cell_type": "code",
   "execution_count": 31,
   "id": "a2c07b1b",
   "metadata": {},
   "outputs": [
    {
     "ename": "NameError",
     "evalue": "name 'sentiment_analysis' is not defined",
     "output_type": "error",
     "traceback": [
      "\u001b[1;31m---------------------------------------------------------------------------\u001b[0m",
      "\u001b[1;31mNameError\u001b[0m                                 Traceback (most recent call last)",
      "\u001b[1;32m~\\AppData\\Local\\Temp/ipykernel_28320/4071820010.py\u001b[0m in \u001b[0;36m<module>\u001b[1;34m\u001b[0m\n\u001b[1;32m----> 1\u001b[1;33m \u001b[0mprint\u001b[0m\u001b[1;33m(\u001b[0m\u001b[0mre\u001b[0m\u001b[1;33m.\u001b[0m\u001b[0mfindall\u001b[0m\u001b[1;33m(\u001b[0m\u001b[0mregex\u001b[0m\u001b[1;33m,\u001b[0m \u001b[0msentiment_analysis\u001b[0m\u001b[1;33m)\u001b[0m\u001b[1;33m)\u001b[0m\u001b[1;33m\u001b[0m\u001b[1;33m\u001b[0m\u001b[0m\n\u001b[0m",
      "\u001b[1;31mNameError\u001b[0m: name 'sentiment_analysis' is not defined"
     ]
    }
   ],
   "source": [
    "print(re.findall(regex, sentiment_analysis))"
   ]
  },
  {
   "cell_type": "code",
   "execution_count": null,
   "id": "21b54e97",
   "metadata": {},
   "outputs": [],
   "source": []
  }
 ],
 "metadata": {
  "kernelspec": {
   "display_name": "Python 3 (ipykernel)",
   "language": "python",
   "name": "python3"
  },
  "language_info": {
   "codemirror_mode": {
    "name": "ipython",
    "version": 3
   },
   "file_extension": ".py",
   "mimetype": "text/x-python",
   "name": "python",
   "nbconvert_exporter": "python",
   "pygments_lexer": "ipython3",
   "version": "3.9.7"
  }
 },
 "nbformat": 4,
 "nbformat_minor": 5
}
